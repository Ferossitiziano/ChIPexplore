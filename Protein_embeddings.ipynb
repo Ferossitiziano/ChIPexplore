{
  "nbformat": 4,
  "nbformat_minor": 0,
  "metadata": {
    "colab": {
      "provenance": [],
      "authorship_tag": "ABX9TyNbzxy7at4DF4Udd4uHEBmZ",
      "include_colab_link": true
    },
    "kernelspec": {
      "name": "python3",
      "display_name": "Python 3"
    },
    "language_info": {
      "name": "python"
    }
  },
  "cells": [
    {
      "cell_type": "markdown",
      "metadata": {
        "id": "view-in-github",
        "colab_type": "text"
      },
      "source": [
        "<a href=\"https://colab.research.google.com/github/Ferossitiziano/ChIPexplore/blob/master/Protein_embeddings.ipynb\" target=\"_parent\"><img src=\"https://colab.research.google.com/assets/colab-badge.svg\" alt=\"Open In Colab\"/></a>"
      ]
    },
    {
      "cell_type": "code",
      "execution_count": 1,
      "metadata": {
        "id": "iKb1HWvHvYuE"
      },
      "outputs": [],
      "source": [
        "# Loading protein language models (plm)\n",
        "from transformers import AutoModel, AutoTokenizer"
      ]
    },
    {
      "cell_type": "code",
      "source": [
        "# Embedding manipulation\n",
        "import torch\n",
        "import torch.nn as nn\n",
        "import torch.optim as optim"
      ],
      "metadata": {
        "id": "oB3rY8uTvqo_"
      },
      "execution_count": 2,
      "outputs": []
    },
    {
      "cell_type": "code",
      "source": [
        "# Data preperation\n",
        "from sklearn.model_selection import train_test_split\n",
        "import pandas as pd\n",
        "import numpy as np\n",
        "import re"
      ],
      "metadata": {
        "id": "_-e7IJo-vrpj"
      },
      "execution_count": 3,
      "outputs": []
    },
    {
      "cell_type": "code",
      "source": [
        "# Evaluation\n",
        "from sklearn.metrics import f1_score, roc_auc_score\n",
        "\n",
        "# Visualization\n",
        "from matplotlib import pyplot as plt\n",
        "\n",
        "# Measure timing\n",
        "import time"
      ],
      "metadata": {
        "id": "1e2yAKSlvwst"
      },
      "execution_count": 4,
      "outputs": []
    }
  ]
}